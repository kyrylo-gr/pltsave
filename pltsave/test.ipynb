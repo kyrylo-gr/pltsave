{
 "cells": [
  {
   "cell_type": "code",
   "execution_count": 1,
   "metadata": {},
   "outputs": [],
   "source": [
    "from labmate.utils import autoreload\n",
    "import matplotlib as mpl\n",
    "import matplotlib.pyplot as plt\n",
    "\n",
    "import convert\n",
    "import stuctures"
   ]
  },
  {
   "cell_type": "code",
   "execution_count": 2,
   "metadata": {},
   "outputs": [
    {
     "data": {
      "text/plain": [
       "<matplotlib.legend.Legend at 0x7fbde8d149d0>"
      ]
     },
     "execution_count": 2,
     "metadata": {},
     "output_type": "execute_result"
    },
    {
     "data": {
      "image/png": "[encoded data removed]",
      "text/plain": [
       "<Figure size 432x288 with 2 Axes>"
      ]
     },
     "metadata": {
      "needs_background": "light"
     },
     "output_type": "display_data"
    }
   ],
   "source": [
    "fig, ax = plt.subplots(1, 2)\n",
    "ax[0].plot([0,1],[3,2], label = \"fit\")\n",
    "ax[0].plot([0,1],[3,2], '.', label=\"data\")\n",
    "\n",
    "ax[1].plot([0,1],[3,5], label = \"fit\")\n",
    "ax[1].plot([0,1],[3,5], '.', label=\"data\")\n",
    "\n",
    "ax[0].legend(loc=4)"
   ]
  },
  {
   "cell_type": "code",
   "execution_count": 5,
   "metadata": {},
   "outputs": [
    {
     "data": {
      "image/png": "[encoded data removed]",
      "text/plain": [
       "<Figure size 432x288 with 2 Axes>"
      ]
     },
     "metadata": {
      "needs_background": "light"
     },
     "output_type": "display_data"
    }
   ],
   "source": [
    "fi = convert.dumps(fig)\n",
    "\n",
    "\n",
    "fig2 = plt.figure()\n",
    "convert.load(fig2, fi)\n"
   ]
  },
  {
   "cell_type": "code",
   "execution_count": 69,
   "metadata": {},
   "outputs": [
    {
     "data": {
      "text/plain": [
       "{'children': [{'xlim': (-0.05, 1.05),\n",
       "   'ylim': (1.95, 3.05),\n",
       "   'rect': (0.125, 0.125, 0.35227272727272724, 0.755),\n",
       "   'children': [{'xdata': array([0, 1]),\n",
       "     'ydata': array([3, 2]),\n",
       "     'color': '#1f77b4',\n",
       "     'alpha': None,\n",
       "     'ls': '-',\n",
       "     'lw': 1.5,\n",
       "     'ds': 'default',\n",
       "     'marker': 'None',\n",
       "     'label': 'fit',\n",
       "     'children': [],\n",
       "     '__name__': 'LineInfo'},\n",
       "    {'xdata': array([0, 1]),\n",
       "     'ydata': array([3, 2]),\n",
       "     'color': '#ff7f0e',\n",
       "     'alpha': None,\n",
       "     'ls': 'None',\n",
       "     'lw': 1.5,\n",
       "     'ds': 'default',\n",
       "     'marker': '.',\n",
       "     'label': 'data',\n",
       "     'children': [],\n",
       "     '__name__': 'LineInfo'},\n",
       "    {'loc': 4, 'children': [], '__name__': 'LegendInfo'}],\n",
       "   '__name__': 'AxesInfo'},\n",
       "  {'xlim': (-0.05, 1.05),\n",
       "   'ylim': (2.9, 5.1),\n",
       "   'rect': (0.5477272727272726, 0.125, 0.3522727272727273, 0.755),\n",
       "   'children': [{'xdata': array([0, 1]),\n",
       "     'ydata': array([3, 5]),\n",
       "     'color': '#1f77b4',\n",
       "     'alpha': None,\n",
       "     'ls': '-',\n",
       "     'lw': 1.5,\n",
       "     'ds': 'default',\n",
       "     'marker': 'None',\n",
       "     'label': 'fit',\n",
       "     'children': [],\n",
       "     '__name__': 'LineInfo'},\n",
       "    {'xdata': array([0, 1]),\n",
       "     'ydata': array([3, 5]),\n",
       "     'color': '#ff7f0e',\n",
       "     'alpha': None,\n",
       "     'ls': 'None',\n",
       "     'lw': 1.5,\n",
       "     'ds': 'default',\n",
       "     'marker': '.',\n",
       "     'label': 'data',\n",
       "     'children': [],\n",
       "     '__name__': 'LineInfo'}],\n",
       "   '__name__': 'AxesInfo'}],\n",
       " '__name__': 'FigureInfo'}"
      ]
     },
     "execution_count": 69,
     "metadata": {},
     "output_type": "execute_result"
    }
   ],
   "source": [
    "fi.dict()"
   ]
  }
 ],
 "metadata": {
  "kernelspec": {
   "display_name": "phd_mask",
   "language": "python",
   "name": "python3"
  },
  "language_info": {
   "codemirror_mode": {
    "name": "ipython",
    "version": 3
   },
   "file_extension": ".py",
   "mimetype": "text/x-python",
   "name": "python",
   "nbconvert_exporter": "python",
   "pygments_lexer": "ipython3",
   "version": "3.10.0"
  },
  "orig_nbformat": 4
 },
 "nbformat": 4,
 "nbformat_minor": 2
}
